{
 "cells": [
  {
   "cell_type": "markdown",
   "id": "95645692",
   "metadata": {},
   "source": [
    "# Chapter 1"
   ]
  },
  {
   "cell_type": "markdown",
   "id": "fb932f7e",
   "metadata": {},
   "source": [
    "### 1[a] Hello World"
   ]
  },
  {
   "cell_type": "code",
   "execution_count": 10,
   "id": "efeed893",
   "metadata": {},
   "outputs": [
    {
     "name": "stdout",
     "output_type": "stream",
     "text": [
      "Welcome to Python Programming !!!\n"
     ]
    }
   ],
   "source": [
    "print('Welcome to Python Programming !!!')"
   ]
  },
  {
   "cell_type": "code",
   "execution_count": 12,
   "id": "edfe4b1f",
   "metadata": {},
   "outputs": [
    {
     "name": "stdout",
     "output_type": "stream",
     "text": [
      "Arshad replied,John's session is fine\n"
     ]
    }
   ],
   "source": [
    "print(\"Arshad replied,John's session is fine\")"
   ]
  },
  {
   "cell_type": "code",
   "execution_count": 13,
   "id": "0e15b9e2",
   "metadata": {},
   "outputs": [
    {
     "name": "stdout",
     "output_type": "stream",
     "text": [
      "Arshad replied,\"John's session is fine\".\n"
     ]
    }
   ],
   "source": [
    "print(\"\"\"Arshad replied,\"John's session is fine\".\"\"\")"
   ]
  },
  {
   "cell_type": "markdown",
   "id": "078f38d6",
   "metadata": {},
   "source": [
    "### 1[b] Create a variable"
   ]
  },
  {
   "cell_type": "code",
   "execution_count": 14,
   "id": "79be8cf4",
   "metadata": {},
   "outputs": [],
   "source": [
    "particapants = 60"
   ]
  },
  {
   "cell_type": "code",
   "execution_count": 16,
   "id": "07109b97",
   "metadata": {},
   "outputs": [
    {
     "data": {
      "text/plain": [
       "(80, 90, 95, 89, 100, 100, 100)"
      ]
     },
     "execution_count": 16,
     "metadata": {},
     "output_type": "execute_result"
    }
   ],
   "source": [
    "scores = 80,90,95,89,100,100,100\n",
    "scores"
   ]
  },
  {
   "cell_type": "code",
   "execution_count": 17,
   "id": "f9c6c56d",
   "metadata": {},
   "outputs": [
    {
     "data": {
      "text/plain": [
       "7"
      ]
     },
     "execution_count": 17,
     "metadata": {},
     "output_type": "execute_result"
    }
   ],
   "source": [
    "len(scores)"
   ]
  },
  {
   "cell_type": "code",
   "execution_count": 18,
   "id": "99326b06",
   "metadata": {},
   "outputs": [
    {
     "data": {
      "text/plain": [
       "(95, 89, 100, 100, 100)"
      ]
     },
     "execution_count": 18,
     "metadata": {},
     "output_type": "execute_result"
    }
   ],
   "source": [
    "scores[2:]"
   ]
  },
  {
   "cell_type": "code",
   "execution_count": 19,
   "id": "445280db",
   "metadata": {},
   "outputs": [],
   "source": [
    "import numpy as np"
   ]
  },
  {
   "cell_type": "code",
   "execution_count": 20,
   "id": "df997389",
   "metadata": {},
   "outputs": [
    {
     "data": {
      "text/plain": [
       "93.42857142857143"
      ]
     },
     "execution_count": 20,
     "metadata": {},
     "output_type": "execute_result"
    }
   ],
   "source": [
    "np.mean(scores)"
   ]
  },
  {
   "cell_type": "markdown",
   "id": "5b2a817b",
   "metadata": {},
   "source": [
    "# Chapter 2 - Strings and String Methods"
   ]
  },
  {
   "cell_type": "markdown",
   "id": "ba23bc3e",
   "metadata": {},
   "source": [
    "#### Different Data types:\n",
    "\n",
    "* Integer - numbers without decimal values.\n",
    "* Float   - numbers with decimal values.\n",
    "* String  - anything which is enclosed within quotes."
   ]
  },
  {
   "cell_type": "markdown",
   "id": "2cc67d39",
   "metadata": {},
   "source": [
    "### 2[a] What is a string?"
   ]
  },
  {
   "cell_type": "code",
   "execution_count": 21,
   "id": "49093374",
   "metadata": {},
   "outputs": [],
   "source": [
    "csk_score = 190"
   ]
  },
  {
   "cell_type": "code",
   "execution_count": 22,
   "id": "04cd40aa",
   "metadata": {},
   "outputs": [
    {
     "data": {
      "text/plain": [
       "int"
      ]
     },
     "execution_count": 22,
     "metadata": {},
     "output_type": "execute_result"
    }
   ],
   "source": [
    "type(csk_score)"
   ]
  },
  {
   "cell_type": "code",
   "execution_count": 23,
   "id": "4bfa675a",
   "metadata": {},
   "outputs": [],
   "source": [
    "bowling_average = 99.32"
   ]
  },
  {
   "cell_type": "code",
   "execution_count": 24,
   "id": "289f1f3a",
   "metadata": {},
   "outputs": [
    {
     "data": {
      "text/plain": [
       "float"
      ]
     },
     "execution_count": 24,
     "metadata": {},
     "output_type": "execute_result"
    }
   ],
   "source": [
    "type(bowling_average)"
   ]
  },
  {
   "cell_type": "code",
   "execution_count": 29,
   "id": "db95dfb6",
   "metadata": {},
   "outputs": [],
   "source": [
    "average_strike_rate = '134.54'"
   ]
  },
  {
   "cell_type": "code",
   "execution_count": 30,
   "id": "236eb209",
   "metadata": {},
   "outputs": [
    {
     "data": {
      "text/plain": [
       "str"
      ]
     },
     "execution_count": 30,
     "metadata": {},
     "output_type": "execute_result"
    }
   ],
   "source": [
    "type(average_strike_rate)"
   ]
  },
  {
   "cell_type": "code",
   "execution_count": 35,
   "id": "206bef11",
   "metadata": {},
   "outputs": [],
   "source": [
    "learner_1 = 'Amia'"
   ]
  },
  {
   "cell_type": "code",
   "execution_count": 36,
   "id": "7962aaeb",
   "metadata": {},
   "outputs": [
    {
     "data": {
      "text/plain": [
       "str"
      ]
     },
     "execution_count": 36,
     "metadata": {},
     "output_type": "execute_result"
    }
   ],
   "source": [
    "type(learner_1)"
   ]
  },
  {
   "cell_type": "markdown",
   "id": "e5fcd6c5",
   "metadata": {},
   "source": [
    "### 2[b] Concatenation - Indexing - Slicing"
   ]
  },
  {
   "cell_type": "code",
   "execution_count": 84,
   "id": "6f7eec78",
   "metadata": {},
   "outputs": [],
   "source": [
    "fname = 'Rahul'\n",
    "lname = 'Reddy'\n",
    "age   = 29 "
   ]
  },
  {
   "cell_type": "code",
   "execution_count": null,
   "id": "e25a0752",
   "metadata": {},
   "outputs": [],
   "source": []
  },
  {
   "cell_type": "code",
   "execution_count": 39,
   "id": "248e137d",
   "metadata": {},
   "outputs": [
    {
     "data": {
      "text/plain": [
       "('Rahul', 'Reddy')"
      ]
     },
     "execution_count": 39,
     "metadata": {},
     "output_type": "execute_result"
    }
   ],
   "source": [
    "fname,lname"
   ]
  },
  {
   "cell_type": "code",
   "execution_count": 47,
   "id": "d1a4ef8b",
   "metadata": {},
   "outputs": [
    {
     "name": "stdout",
     "output_type": "stream",
     "text": [
      "Rahul Reddy\n"
     ]
    }
   ],
   "source": [
    "print(fname + ' ' + lname) #Concatenation"
   ]
  },
  {
   "cell_type": "code",
   "execution_count": 50,
   "id": "bcf21f9e",
   "metadata": {},
   "outputs": [
    {
     "name": "stdout",
     "output_type": "stream",
     "text": [
      "Rahul Reddyand his age is 29\n"
     ]
    }
   ],
   "source": [
    "print(fname + ' ' + lname + 'and his age is ' + str(age)) #Typecasting"
   ]
  },
  {
   "cell_type": "code",
   "execution_count": 52,
   "id": "14d3a2d5",
   "metadata": {},
   "outputs": [
    {
     "name": "stdout",
     "output_type": "stream",
     "text": [
      "Rahul Reddy and his age is 29\n"
     ]
    }
   ],
   "source": [
    "print(fname,lname,'and his age is',age)"
   ]
  },
  {
   "cell_type": "code",
   "execution_count": 53,
   "id": "6bfaddc1",
   "metadata": {},
   "outputs": [
    {
     "data": {
      "text/plain": [
       "int"
      ]
     },
     "execution_count": 53,
     "metadata": {},
     "output_type": "execute_result"
    }
   ],
   "source": [
    "scores = 12\n",
    "type(scores)"
   ]
  },
  {
   "cell_type": "code",
   "execution_count": 56,
   "id": "56fce0a0",
   "metadata": {},
   "outputs": [
    {
     "data": {
      "text/plain": [
       "float"
      ]
     },
     "execution_count": 56,
     "metadata": {},
     "output_type": "execute_result"
    }
   ],
   "source": [
    "b = float(scores)\n",
    "type(b)"
   ]
  },
  {
   "cell_type": "code",
   "execution_count": 57,
   "id": "11a7312e",
   "metadata": {},
   "outputs": [
    {
     "name": "stdout",
     "output_type": "stream",
     "text": [
      "Rahul Reddyand his age is 29\n"
     ]
    }
   ],
   "source": [
    "print(fname + ' ' + lname + 'and his age is ' + str(age))"
   ]
  },
  {
   "cell_type": "code",
   "execution_count": 85,
   "id": "8040abb2",
   "metadata": {},
   "outputs": [
    {
     "data": {
      "text/plain": [
       "'Gokul and Jatin are quick learners'"
      ]
     },
     "execution_count": 85,
     "metadata": {},
     "output_type": "execute_result"
    }
   ],
   "source": [
    "feedback = 'Gokul and Jatin are quick learners'\n",
    "feedback"
   ]
  },
  {
   "cell_type": "code",
   "execution_count": 98,
   "id": "2ce45832",
   "metadata": {},
   "outputs": [
    {
     "data": {
      "text/plain": [
       "' '"
      ]
     },
     "execution_count": 98,
     "metadata": {},
     "output_type": "execute_result"
    }
   ],
   "source": [
    "feedback[5]"
   ]
  },
  {
   "cell_type": "code",
   "execution_count": 92,
   "id": "22200446",
   "metadata": {},
   "outputs": [
    {
     "data": {
      "text/plain": [
       "'kul'"
      ]
     },
     "execution_count": 92,
     "metadata": {},
     "output_type": "execute_result"
    }
   ],
   "source": [
    "#Indexing starts from 0.\n",
    "feedback[2:5]"
   ]
  },
  {
   "cell_type": "code",
   "execution_count": 88,
   "id": "4430f764",
   "metadata": {},
   "outputs": [
    {
     "data": {
      "text/plain": [
       "'o'"
      ]
     },
     "execution_count": 88,
     "metadata": {},
     "output_type": "execute_result"
    }
   ],
   "source": [
    "feedback[1]"
   ]
  },
  {
   "cell_type": "code",
   "execution_count": 96,
   "id": "d573223d",
   "metadata": {},
   "outputs": [
    {
     "data": {
      "text/plain": [
       "'and Jatin are quick learne'"
      ]
     },
     "execution_count": 96,
     "metadata": {},
     "output_type": "execute_result"
    }
   ],
   "source": [
    "feedback[6:-2]"
   ]
  },
  {
   "cell_type": "code",
   "execution_count": 97,
   "id": "7b400abc",
   "metadata": {},
   "outputs": [
    {
     "data": {
      "text/plain": [
       "'and Jatin are quick learner'"
      ]
     },
     "execution_count": 97,
     "metadata": {},
     "output_type": "execute_result"
    }
   ],
   "source": [
    "feedback[6:-1]"
   ]
  },
  {
   "cell_type": "markdown",
   "id": "a9d69166",
   "metadata": {},
   "source": [
    "### 2[c] Manipulate Strings with methods"
   ]
  },
  {
   "cell_type": "code",
   "execution_count": 59,
   "id": "e7add1d4",
   "metadata": {},
   "outputs": [],
   "source": [
    "learner_1 = 'sangeeth'\n",
    "learner_2 = 'shashank'\n",
    "learner_3 = 'Javid'\n",
    "learner_4 = 'Alish'"
   ]
  },
  {
   "cell_type": "code",
   "execution_count": 63,
   "id": "08d01b02",
   "metadata": {},
   "outputs": [
    {
     "name": "stdout",
     "output_type": "stream",
     "text": [
      "sangeeth\n",
      "shashank\n",
      "Javid\n",
      "Alish\n"
     ]
    }
   ],
   "source": [
    "print(learner_1)\n",
    "print(learner_2)\n",
    "print(learner_3)\n",
    "print(learner_4)"
   ]
  },
  {
   "cell_type": "code",
   "execution_count": 77,
   "id": "671952a3",
   "metadata": {},
   "outputs": [],
   "source": [
    "learner_1 = 'sangeeth'\n",
    "learner_2 = 'shashank'\n",
    "learner_3 = '    Javid       Kumar      '\n",
    "learner_4 = 'Alish'"
   ]
  },
  {
   "cell_type": "code",
   "execution_count": 76,
   "id": "84d7e57d",
   "metadata": {},
   "outputs": [
    {
     "data": {
      "text/plain": [
       "27"
      ]
     },
     "execution_count": 76,
     "metadata": {},
     "output_type": "execute_result"
    }
   ],
   "source": [
    "len(learner_3)"
   ]
  },
  {
   "cell_type": "code",
   "execution_count": 79,
   "id": "74a69dbc",
   "metadata": {},
   "outputs": [],
   "source": [
    "learner_3 = learner_3.strip()"
   ]
  },
  {
   "cell_type": "code",
   "execution_count": 81,
   "id": "e3043742",
   "metadata": {},
   "outputs": [
    {
     "data": {
      "text/plain": [
       "17"
      ]
     },
     "execution_count": 81,
     "metadata": {},
     "output_type": "execute_result"
    }
   ],
   "source": [
    "len(learner_3)"
   ]
  },
  {
   "cell_type": "code",
   "execution_count": 82,
   "id": "d158ec5d",
   "metadata": {},
   "outputs": [
    {
     "name": "stdout",
     "output_type": "stream",
     "text": [
      "Sangeeth\n",
      "SHASHANK\n",
      "Javid       Kumar\n",
      "False\n"
     ]
    }
   ],
   "source": [
    "print(learner_1.capitalize())\n",
    "print(learner_2.upper())\n",
    "print(learner_3.strip())\n",
    "print(learner_4.isupper())"
   ]
  },
  {
   "cell_type": "markdown",
   "id": "7cb0f577",
   "metadata": {},
   "source": [
    "#### Terminology Alert : \n",
    "\n",
    "##### Methods / Functions both are same - It will get ended with ()."
   ]
  },
  {
   "cell_type": "code",
   "execution_count": 65,
   "id": "c06c94f6",
   "metadata": {},
   "outputs": [
    {
     "data": {
      "text/plain": [
       "8"
      ]
     },
     "execution_count": 65,
     "metadata": {},
     "output_type": "execute_result"
    }
   ],
   "source": [
    "len(learner_1)"
   ]
  },
  {
   "cell_type": "markdown",
   "id": "c5cd3b97",
   "metadata": {},
   "source": [
    "## ==========================================================="
   ]
  },
  {
   "cell_type": "markdown",
   "id": "7772a37f",
   "metadata": {},
   "source": [
    "### TASK - 1 Get 2 examples for String methods."
   ]
  },
  {
   "cell_type": "markdown",
   "id": "fc526deb",
   "metadata": {},
   "source": [
    "## ==========================================================="
   ]
  },
  {
   "cell_type": "markdown",
   "id": "cd48e2d0",
   "metadata": {},
   "source": [
    "### 2[d] Interact with user input"
   ]
  },
  {
   "cell_type": "code",
   "execution_count": 105,
   "id": "2044bf79",
   "metadata": {},
   "outputs": [
    {
     "name": "stdout",
     "output_type": "stream",
     "text": [
      "Username :Aditya\n",
      "First letter starts with  A\n"
     ]
    }
   ],
   "source": [
    "user_input = input('Username :')\n",
    "print('First letter starts with ',user_input[0])"
   ]
  },
  {
   "cell_type": "markdown",
   "id": "f5e33f21",
   "metadata": {},
   "source": [
    "### 2[e] Quick Exercise to get 2 inputs from the user and display it using 1 print statement."
   ]
  },
  {
   "cell_type": "code",
   "execution_count": 110,
   "id": "be0855a4",
   "metadata": {},
   "outputs": [
    {
     "name": "stdout",
     "output_type": "stream",
     "text": [
      "Name:Rahul\n",
      "Age:Reddy\n",
      "Name - Rahul \n",
      "Age - Reddy.\n"
     ]
    }
   ],
   "source": [
    "user_name = input('Name:')\n",
    "user_age = input('Age:')\n",
    "#print('Your name is', user_name, 'Your age is', user_age)\n",
    "print('Name - {} \\nAge - {}.'.format(user_name,user_age)) #Escape sequences"
   ]
  },
  {
   "cell_type": "code",
   "execution_count": 117,
   "id": "381c0e20",
   "metadata": {},
   "outputs": [
    {
     "data": {
      "text/plain": [
       "5"
      ]
     },
     "execution_count": 117,
     "metadata": {},
     "output_type": "execute_result"
    }
   ],
   "source": [
    "feedback = \"John's session is not that great\"\n",
    "feedback.find('s')"
   ]
  },
  {
   "cell_type": "markdown",
   "id": "444aa77c",
   "metadata": {},
   "source": [
    "# Chapter 3 - Numbers in Python"
   ]
  },
  {
   "cell_type": "code",
   "execution_count": 125,
   "id": "5dd288da",
   "metadata": {},
   "outputs": [
    {
     "name": "stdout",
     "output_type": "stream",
     "text": [
      "Enter your marks : -100\n",
      "100\n"
     ]
    }
   ],
   "source": [
    "marks = abs(int(input('Enter your marks : ')))\n",
    "print(marks)"
   ]
  },
  {
   "cell_type": "markdown",
   "id": "3b3f01da",
   "metadata": {},
   "source": [
    "# Chapter 4 - Functions and loops\n",
    "\n",
    "\n",
    "### 3 types of Functions:\n",
    "\n",
    "* Predefined Functions/Builtin functions - which will get automatically installed into your local machine when we install anaconda navigator.\n",
    "* Userdefined functions - user given functions, according to his own preferences - it is customizable function.\n",
    "* Anonymous functions   - it is a nameless function, which is used for accomplish one operation at once. "
   ]
  },
  {
   "cell_type": "markdown",
   "id": "bd52da39",
   "metadata": {},
   "source": [
    "### 4[a] Write your own functions"
   ]
  },
  {
   "cell_type": "code",
   "execution_count": 16,
   "id": "882ca136",
   "metadata": {},
   "outputs": [],
   "source": [
    "#Function defenition #Function declaration\n",
    "def get_user_details():\n",
    "    print('Welcome to the first udf!!!')\n",
    "    print('hello !!')"
   ]
  },
  {
   "cell_type": "code",
   "execution_count": 17,
   "id": "e4b2aee8",
   "metadata": {},
   "outputs": [
    {
     "name": "stdout",
     "output_type": "stream",
     "text": [
      "Welcome to the first udf!!!\n",
      "hello !!\n"
     ]
    }
   ],
   "source": [
    "#Calling our function\n",
    "get_user_details()"
   ]
  },
  {
   "cell_type": "markdown",
   "id": "40e5b281",
   "metadata": {},
   "source": [
    "##### Positional arguments"
   ]
  },
  {
   "cell_type": "code",
   "execution_count": 10,
   "id": "f5f247b3",
   "metadata": {},
   "outputs": [],
   "source": [
    "def get_two_num(num1,num2): #Arguments\n",
    "    return num1 + num2"
   ]
  },
  {
   "cell_type": "code",
   "execution_count": 13,
   "id": "e3ceaa37",
   "metadata": {},
   "outputs": [
    {
     "data": {
      "text/plain": [
       "12"
      ]
     },
     "execution_count": 13,
     "metadata": {},
     "output_type": "execute_result"
    }
   ],
   "source": [
    "get_two_num(5,7) #Parameters"
   ]
  },
  {
   "cell_type": "code",
   "execution_count": 19,
   "id": "2fd02f6b",
   "metadata": {},
   "outputs": [],
   "source": [
    "def get_two_num(num1,num2): #Arguments\n",
    "    print('Number_1 : ',num1)\n",
    "    print('Number_2 : ',num2)\n",
    "    return num1 + num2"
   ]
  },
  {
   "cell_type": "code",
   "execution_count": 20,
   "id": "f9b8f7f1",
   "metadata": {},
   "outputs": [
    {
     "name": "stdout",
     "output_type": "stream",
     "text": [
      "Number_1 :  5\n",
      "Number_2 :  7\n"
     ]
    },
    {
     "data": {
      "text/plain": [
       "12"
      ]
     },
     "execution_count": 20,
     "metadata": {},
     "output_type": "execute_result"
    }
   ],
   "source": [
    "get_two_num(5,7) #Parameters"
   ]
  },
  {
   "cell_type": "code",
   "execution_count": 21,
   "id": "5ab2364a",
   "metadata": {},
   "outputs": [],
   "source": [
    "def get_two_num(num1,num2): #Arguments\n",
    "    return num1 + num2  #Function termination\n",
    "    print('Number_1 : ',num1)\n",
    "    print('Number_2 : ',num2)"
   ]
  },
  {
   "cell_type": "code",
   "execution_count": 22,
   "id": "f98231d6",
   "metadata": {
    "scrolled": true
   },
   "outputs": [
    {
     "data": {
      "text/plain": [
       "12"
      ]
     },
     "execution_count": 22,
     "metadata": {},
     "output_type": "execute_result"
    }
   ],
   "source": [
    "get_two_num(5,7) #Parameters"
   ]
  },
  {
   "cell_type": "code",
   "execution_count": 26,
   "id": "f1419a7d",
   "metadata": {},
   "outputs": [],
   "source": [
    "def get_two_num(num1,num2): #Arguments\n",
    "    return num1 #Function termination\n",
    "    return num2\n",
    "    return num1 + num2  "
   ]
  },
  {
   "cell_type": "code",
   "execution_count": 25,
   "id": "2535f392",
   "metadata": {},
   "outputs": [
    {
     "data": {
      "text/plain": [
       "5"
      ]
     },
     "execution_count": 25,
     "metadata": {},
     "output_type": "execute_result"
    }
   ],
   "source": [
    "get_two_num(5,7) #Parameters"
   ]
  },
  {
   "cell_type": "markdown",
   "id": "d513d6eb",
   "metadata": {},
   "source": [
    "#### Default parameters"
   ]
  },
  {
   "cell_type": "code",
   "execution_count": 32,
   "id": "3dad8a37",
   "metadata": {},
   "outputs": [],
   "source": [
    "def get_employee_details(idno,name,age,company = 'IBM'): #arguments\n",
    "    print('********EMPLOYEE DETAILS************')\n",
    "    print('EID     : ',idno)\n",
    "    print('Name    : ',name)\n",
    "    print('Age     : ',age)\n",
    "    print('Company : ',company)\n",
    "    print('*************************************')"
   ]
  },
  {
   "cell_type": "code",
   "execution_count": 33,
   "id": "2bf16eb9",
   "metadata": {},
   "outputs": [
    {
     "name": "stdout",
     "output_type": "stream",
     "text": [
      "********EMPLOYEE DETAILS************\n",
      "EID     :  1\n",
      "Name    :  Aditya\n",
      "Age     :  30\n",
      "Company :  IBM\n",
      "*************************************\n"
     ]
    }
   ],
   "source": [
    "get_employee_details(1,'Aditya',30) #Parameters"
   ]
  },
  {
   "cell_type": "code",
   "execution_count": 34,
   "id": "8236cee0",
   "metadata": {},
   "outputs": [
    {
     "name": "stdout",
     "output_type": "stream",
     "text": [
      "********EMPLOYEE DETAILS************\n",
      "EID     :  2\n",
      "Name    :  Chetan\n",
      "Age     :  28\n",
      "Company :  IBM\n",
      "*************************************\n"
     ]
    }
   ],
   "source": [
    "get_employee_details(2,'Chetan',28)"
   ]
  },
  {
   "cell_type": "code",
   "execution_count": 35,
   "id": "444df646",
   "metadata": {},
   "outputs": [
    {
     "name": "stdout",
     "output_type": "stream",
     "text": [
      "********EMPLOYEE DETAILS************\n",
      "EID     :  3\n",
      "Name    :  Sangeeth\n",
      "Age     :  26\n",
      "Company :  IBM\n",
      "*************************************\n"
     ]
    }
   ],
   "source": [
    "get_employee_details(3,'Sangeeth',26)"
   ]
  },
  {
   "cell_type": "code",
   "execution_count": 36,
   "id": "9bddd235",
   "metadata": {},
   "outputs": [
    {
     "name": "stdout",
     "output_type": "stream",
     "text": [
      "********EMPLOYEE DETAILS************\n",
      "EID     :  4\n",
      "Name    :  Nagarjun\n",
      "Age     :  27\n",
      "Company :  Google\n",
      "*************************************\n"
     ]
    }
   ],
   "source": [
    "get_employee_details(4,'Nagarjun',27,'Google')"
   ]
  },
  {
   "cell_type": "markdown",
   "id": "fb0caa8a",
   "metadata": {},
   "source": [
    "#### Variable-length argument"
   ]
  },
  {
   "cell_type": "code",
   "execution_count": 42,
   "id": "e14cde74",
   "metadata": {},
   "outputs": [],
   "source": [
    "def get_employee_details_2(idno,name,age,*company): #arguments\n",
    "    print('********EMPLOYEE DETAILS************')\n",
    "    print('EID     : ',idno)\n",
    "    print('Name    : ',name)\n",
    "    print('Age     : ',age)\n",
    "    print('Company : ',company)\n",
    "    print('*************************************')"
   ]
  },
  {
   "cell_type": "code",
   "execution_count": 45,
   "id": "b6b1a1fd",
   "metadata": {},
   "outputs": [
    {
     "name": "stdout",
     "output_type": "stream",
     "text": [
      "********EMPLOYEE DETAILS************\n",
      "EID     :  7\n",
      "Name    :  Golda\n",
      "Age     :  28\n",
      "Company :  ('Innodatatics', 'EXCELR', 'IBM')\n",
      "*************************************\n"
     ]
    }
   ],
   "source": [
    "get_employee_details_2(7,'Golda',28,'Innodatatics','EXCELR','IBM')"
   ]
  },
  {
   "cell_type": "markdown",
   "id": "5127e68b",
   "metadata": {},
   "source": [
    "#### Keyword Argument"
   ]
  },
  {
   "cell_type": "code",
   "execution_count": 47,
   "id": "f3b7dc84",
   "metadata": {},
   "outputs": [],
   "source": [
    "def get_employee_details_3(idno,name,age,**company): #arguments\n",
    "    print('********EMPLOYEE DETAILS************')\n",
    "    print('EID     : ',idno)\n",
    "    print('Name    : ',name)\n",
    "    print('Age     : ',age)\n",
    "    print('Company : ',company)\n",
    "    print('*************************************')"
   ]
  },
  {
   "cell_type": "code",
   "execution_count": 49,
   "id": "08238add",
   "metadata": {},
   "outputs": [
    {
     "name": "stdout",
     "output_type": "stream",
     "text": [
      "********EMPLOYEE DETAILS************\n",
      "EID     :  7\n",
      "Name    :  Golda\n",
      "Age     :  28\n",
      "Company :  {'company_1': 'Innodatatics', 'company_2': 'EXCELR', 'company_3': 'IBM'}\n",
      "*************************************\n"
     ]
    }
   ],
   "source": [
    "get_employee_details_3(7,'Golda',28,company_1 = 'Innodatatics',company_2 = 'EXCELR',company_3 = 'IBM')"
   ]
  },
  {
   "cell_type": "markdown",
   "id": "683b6f68",
   "metadata": {},
   "source": [
    "#### Variable length and Keyword arguments"
   ]
  },
  {
   "cell_type": "code",
   "execution_count": 52,
   "id": "9dbbf830",
   "metadata": {},
   "outputs": [],
   "source": [
    "def get_employee_details_3(idno,age,*name,**company): #arguments\n",
    "    print('********EMPLOYEE DETAILS************')\n",
    "    print('EID     : ',idno)\n",
    "    print('Name    : ',name) \n",
    "    print('Age     : ',age)      \n",
    "    print('Company : ',company)\n",
    "    print('*************************************')"
   ]
  },
  {
   "cell_type": "code",
   "execution_count": 53,
   "id": "4a632d73",
   "metadata": {},
   "outputs": [
    {
     "name": "stdout",
     "output_type": "stream",
     "text": [
      "********EMPLOYEE DETAILS************\n",
      "EID     :  7\n",
      "Name    :  ('Golda', 'Dhanaxi', 'Maria')\n",
      "Age     :  28\n",
      "Company :  {'company_1': 'Innodatatics', 'company_2': 'EXCELR', 'company_3': 'IBM'}\n",
      "*************************************\n"
     ]
    }
   ],
   "source": [
    "get_employee_details_3(7,28,'Golda','Dhanaxi','Maria',company_1 = 'Innodatatics',company_2 = 'EXCELR',company_3 = 'IBM')"
   ]
  },
  {
   "cell_type": "markdown",
   "id": "ea6ddd84",
   "metadata": {},
   "source": [
    "### 4[b] Run in circles"
   ]
  },
  {
   "cell_type": "code",
   "execution_count": 54,
   "id": "3ca70e97",
   "metadata": {},
   "outputs": [
    {
     "data": {
      "text/plain": [
       "(1, 2, 3, 4, 5, 6, 7, 8, 9, 10)"
      ]
     },
     "execution_count": 54,
     "metadata": {},
     "output_type": "execute_result"
    }
   ],
   "source": [
    "a = 1,2,3,4,5,6,7,8,9,10\n",
    "a"
   ]
  },
  {
   "cell_type": "code",
   "execution_count": 60,
   "id": "8eb95e57",
   "metadata": {},
   "outputs": [
    {
     "name": "stdout",
     "output_type": "stream",
     "text": [
      "1\n",
      "3\n",
      "5\n",
      "7\n",
      "9\n",
      "11\n",
      "13\n",
      "15\n",
      "17\n",
      "19\n"
     ]
    }
   ],
   "source": [
    "for i in range(1,21,2): \n",
    "    print(i)"
   ]
  },
  {
   "cell_type": "markdown",
   "id": "5f696d4d",
   "metadata": {},
   "source": [
    "#### 4[c] Defintions with for loop"
   ]
  },
  {
   "cell_type": "code",
   "execution_count": 65,
   "id": "612a0b03",
   "metadata": {},
   "outputs": [],
   "source": [
    "def get_name(name): #Arguments\n",
    "    for i in name:\n",
    "        print(i)\n",
    "    return 'Function ENDED'"
   ]
  },
  {
   "cell_type": "code",
   "execution_count": 66,
   "id": "89675128",
   "metadata": {},
   "outputs": [
    {
     "name": "stdout",
     "output_type": "stream",
     "text": [
      "N\n",
      "a\n",
      "g\n",
      "a\n",
      "r\n",
      "j\n",
      "u\n",
      "n\n"
     ]
    },
    {
     "data": {
      "text/plain": [
       "'Function ENDED'"
      ]
     },
     "execution_count": 66,
     "metadata": {},
     "output_type": "execute_result"
    }
   ],
   "source": [
    "get_name('Nagarjun') #Parameter"
   ]
  },
  {
   "cell_type": "markdown",
   "id": "c093fb35",
   "metadata": {},
   "source": [
    "## Chapter 5 Conditional logic"
   ]
  },
  {
   "cell_type": "markdown",
   "id": "bf124cf1",
   "metadata": {},
   "source": [
    "#### 5[a] Compare Values"
   ]
  },
  {
   "cell_type": "code",
   "execution_count": 68,
   "id": "1eeb2afe",
   "metadata": {},
   "outputs": [
    {
     "data": {
      "text/plain": [
       "True"
      ]
     },
     "execution_count": 68,
     "metadata": {},
     "output_type": "execute_result"
    }
   ],
   "source": [
    " 5 == 5"
   ]
  },
  {
   "cell_type": "code",
   "execution_count": 69,
   "id": "593ec5e6",
   "metadata": {},
   "outputs": [
    {
     "data": {
      "text/plain": [
       "False"
      ]
     },
     "execution_count": 69,
     "metadata": {},
     "output_type": "execute_result"
    }
   ],
   "source": [
    "5 != 5"
   ]
  },
  {
   "cell_type": "code",
   "execution_count": 70,
   "id": "eb1a8a7f",
   "metadata": {},
   "outputs": [
    {
     "data": {
      "text/plain": [
       "False"
      ]
     },
     "execution_count": 70,
     "metadata": {},
     "output_type": "execute_result"
    }
   ],
   "source": [
    "a == 'a'"
   ]
  },
  {
   "cell_type": "code",
   "execution_count": 71,
   "id": "6bead743",
   "metadata": {},
   "outputs": [
    {
     "data": {
      "text/plain": [
       "False"
      ]
     },
     "execution_count": 71,
     "metadata": {},
     "output_type": "execute_result"
    }
   ],
   "source": [
    "5 == '5'"
   ]
  },
  {
   "cell_type": "code",
   "execution_count": null,
   "id": "a7a6279c",
   "metadata": {},
   "outputs": [],
   "source": [
    "10/2 #quotient"
   ]
  },
  {
   "cell_type": "code",
   "execution_count": 92,
   "id": "77c9c5db",
   "metadata": {},
   "outputs": [
    {
     "data": {
      "text/plain": [
       "0"
      ]
     },
     "execution_count": 92,
     "metadata": {},
     "output_type": "execute_result"
    }
   ],
   "source": [
    "10%2 #remainder"
   ]
  },
  {
   "cell_type": "markdown",
   "id": "3fb556ff",
   "metadata": {},
   "source": [
    "### >>>>> Different Operators in Python <<<<<<<<<<\n",
    "\n",
    "##### AND Operator - will return True, only if both conditions is True.\n",
    "##### OR Operator - will return True if anyone condition is True.\n",
    "##### IN operator - we use to check if that particular word is available in my data.\n",
    "##### NOT IN operator - we use to check if that particular word is not available in my data."
   ]
  },
  {
   "cell_type": "markdown",
   "id": "7c618e7f",
   "metadata": {},
   "source": [
    "##### 5[b] Add some logic"
   ]
  },
  {
   "cell_type": "code",
   "execution_count": 75,
   "id": "44c69691",
   "metadata": {},
   "outputs": [],
   "source": [
    "math_marks = 100\n",
    "chem_marks = 80\n",
    "phy_marks  = 90"
   ]
  },
  {
   "cell_type": "code",
   "execution_count": 76,
   "id": "5c68764f",
   "metadata": {},
   "outputs": [
    {
     "data": {
      "text/plain": [
       "True"
      ]
     },
     "execution_count": 76,
     "metadata": {},
     "output_type": "execute_result"
    }
   ],
   "source": [
    "math_marks > chem_marks"
   ]
  },
  {
   "cell_type": "code",
   "execution_count": 77,
   "id": "aff0f70f",
   "metadata": {},
   "outputs": [
    {
     "data": {
      "text/plain": [
       "True"
      ]
     },
     "execution_count": 77,
     "metadata": {},
     "output_type": "execute_result"
    }
   ],
   "source": [
    "phy_marks < math_marks"
   ]
  },
  {
   "cell_type": "code",
   "execution_count": 79,
   "id": "76233ab8",
   "metadata": {},
   "outputs": [
    {
     "data": {
      "text/plain": [
       "False"
      ]
     },
     "execution_count": 79,
     "metadata": {},
     "output_type": "execute_result"
    }
   ],
   "source": [
    "math_marks < chem_marks and phy_marks < math_marks"
   ]
  },
  {
   "cell_type": "code",
   "execution_count": 83,
   "id": "6d43f906",
   "metadata": {},
   "outputs": [
    {
     "data": {
      "text/plain": [
       "True"
      ]
     },
     "execution_count": 83,
     "metadata": {},
     "output_type": "execute_result"
    }
   ],
   "source": [
    "math_marks > chem_marks or phy_marks > math_marks"
   ]
  },
  {
   "cell_type": "code",
   "execution_count": 84,
   "id": "a164c123",
   "metadata": {},
   "outputs": [],
   "source": [
    "feedback = 'Python programming is good to learn'"
   ]
  },
  {
   "cell_type": "code",
   "execution_count": 87,
   "id": "658feae4",
   "metadata": {},
   "outputs": [
    {
     "data": {
      "text/plain": [
       "True"
      ]
     },
     "execution_count": 87,
     "metadata": {},
     "output_type": "execute_result"
    }
   ],
   "source": [
    "'good' in feedback"
   ]
  },
  {
   "cell_type": "code",
   "execution_count": 88,
   "id": "11c0cf83",
   "metadata": {},
   "outputs": [
    {
     "data": {
      "text/plain": [
       "False"
      ]
     },
     "execution_count": 88,
     "metadata": {},
     "output_type": "execute_result"
    }
   ],
   "source": [
    "'good' not in feedback"
   ]
  },
  {
   "cell_type": "markdown",
   "id": "bb22143a",
   "metadata": {},
   "source": [
    "#### 5[c] Control the flow of your program."
   ]
  },
  {
   "cell_type": "code",
   "execution_count": 95,
   "id": "b82be6b6",
   "metadata": {},
   "outputs": [
    {
     "name": "stdout",
     "output_type": "stream",
     "text": [
      "Password: Login\n",
      "Strong Password\n"
     ]
    }
   ],
   "source": [
    "user_password = input('Password: ')\n",
    "\n",
    "if len(user_password)<5:\n",
    "    print('Weak Password')\n",
    "else:\n",
    "    print('Strong Password')"
   ]
  },
  {
   "cell_type": "code",
   "execution_count": 97,
   "id": "b801b0fa",
   "metadata": {},
   "outputs": [
    {
     "name": "stdout",
     "output_type": "stream",
     "text": [
      "Password: JohnGabriel\n",
      "Strong Password\n"
     ]
    }
   ],
   "source": [
    "user_password = input('Password: ')\n",
    "\n",
    "if len(user_password)<5:\n",
    "    print('Weak Password')\n",
    "elif 5<=len(user_password)<=10:\n",
    "    print('Moderate Password')\n",
    "else:\n",
    "    print('Strong Password')"
   ]
  },
  {
   "cell_type": "markdown",
   "id": "fea012eb",
   "metadata": {},
   "source": [
    "#### 5[d] Challenge to find the factors of a number\n",
    "\n",
    "##### Hint:\n",
    "\n",
    "1. Get an input from the user.\n",
    "2. Use for loop\n",
    "3. Use if condition and check the remainder and if remaider 0, then print.\n",
    "2. If user_input = 10, factors of a numbers are 1,2,5,10."
   ]
  },
  {
   "cell_type": "code",
   "execution_count": 99,
   "id": "32778ae0",
   "metadata": {},
   "outputs": [
    {
     "name": "stdout",
     "output_type": "stream",
     "text": [
      "Enter a number and I'll say the factors of it....20\n",
      "1\n",
      "2\n",
      "4\n",
      "5\n",
      "10\n",
      "20\n"
     ]
    }
   ],
   "source": [
    "user_input = int(input(\"Enter a number and I'll say the factors of it....\"))\n",
    "#User = 10 -> 1,2,3,4,5,6,7,8,9,10\n",
    "for i in range(1,user_input+1):\n",
    "    if user_input%i == 0:\n",
    "        print(i)"
   ]
  },
  {
   "cell_type": "markdown",
   "id": "9288db9e",
   "metadata": {},
   "source": [
    "#### 5[e] Break-out-of-the-pattern"
   ]
  },
  {
   "cell_type": "code",
   "execution_count": 104,
   "id": "eee83bcd",
   "metadata": {},
   "outputs": [
    {
     "name": "stdout",
     "output_type": "stream",
     "text": [
      "Type q to exit this windoww\n",
      "Type q to exit this windowt\n",
      "Type q to exit this windowQ\n"
     ]
    }
   ],
   "source": [
    "while True:    \n",
    "    get_user_input = input('Type q to exit this window')\n",
    "\n",
    "    if get_user_input.lower() == 'q':\n",
    "        break"
   ]
  },
  {
   "cell_type": "code",
   "execution_count": 107,
   "id": "3eadce08",
   "metadata": {
    "scrolled": true
   },
   "outputs": [
    {
     "name": "stdout",
     "output_type": "stream",
     "text": [
      "1\n",
      "2\n",
      "4\n",
      "5\n",
      "7\n",
      "8\n",
      "10\n",
      "11\n",
      "13\n",
      "14\n",
      "16\n",
      "17\n",
      "19\n",
      "20\n",
      "22\n",
      "23\n",
      "25\n",
      "26\n",
      "28\n",
      "29\n"
     ]
    }
   ],
   "source": [
    "for i in range(1,31,1):\n",
    "    if i%3 == 0:\n",
    "        continue\n",
    "    print(i)"
   ]
  },
  {
   "cell_type": "markdown",
   "id": "079d0aba",
   "metadata": {},
   "source": [
    "### Assignment - 2\n",
    "\n",
    "Submit 2 examples for each module.\n",
    "1. while loop\n",
    "2. for loop\n",
    "3. if else\n",
    "4. if elif else\n",
    "5. user defined functions without for loop, if loop\n",
    "6. user defined functions with for loop\n",
    "7. user defined functions with for loop and if loop\n",
    "8. break\n",
    "9. continue\n",
    "10. for loop with in operator\n",
    "11. for loop with if statement \n",
    "12. for loop with not in operator\n",
    "10. if with in operator\n",
    "11. if with not in opearator\n",
    "\n",
    "## Assignment -3 List Comprehension"
   ]
  },
  {
   "cell_type": "code",
   "execution_count": null,
   "id": "d3d8f0c7",
   "metadata": {},
   "outputs": [],
   "source": []
  }
 ],
 "metadata": {
  "kernelspec": {
   "display_name": "Python 3",
   "language": "python",
   "name": "python3"
  },
  "language_info": {
   "codemirror_mode": {
    "name": "ipython",
    "version": 3
   },
   "file_extension": ".py",
   "mimetype": "text/x-python",
   "name": "python",
   "nbconvert_exporter": "python",
   "pygments_lexer": "ipython3",
   "version": "3.8.8"
  }
 },
 "nbformat": 4,
 "nbformat_minor": 5
}
